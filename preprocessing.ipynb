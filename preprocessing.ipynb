{
 "cells": [
  {
   "cell_type": "markdown",
   "metadata": {},
   "source": [
    "# Preprocessing\n",
    "\n",
    "This file makes folders and processes the TIMIT dataset to filterbanks"
   ]
  },
  {
   "cell_type": "code",
   "execution_count": 1,
   "metadata": {},
   "outputs": [],
   "source": [
    "import scipy.io.wavfile\n",
    "import numpy as np\n",
    "import matplotlib.pyplot as plt\n",
    "from pathlib import Path\n",
    "import re\n",
    "import os\n",
    "import pandas as pd"
   ]
  },
  {
   "cell_type": "code",
   "execution_count": 3,
   "metadata": {},
   "outputs": [],
   "source": [
    "# Change to change output folder\n",
    "OUTPUT_PATH = Path('./AUDIO_FILTER_BANKS')\n",
    "\n",
    "TRAIN_PATH = Path('./TRAIN_WAV')\n",
    "TEST_PATH = Path('./TEST_WAV')\n",
    "\n",
    "# All of the sub directories, such as TRAIN_PATH/DR1\n",
    "TRAIN_PATHS = [x for x in TRAIN_PATH.iterdir()]\n",
    "TEST_PATHS = [x for x in TEST_PATH.iterdir()]"
   ]
  },
  {
   "cell_type": "code",
   "execution_count": 5,
   "metadata": {},
   "outputs": [],
   "source": [
    "# All of the different accents/people talking\n",
    "TRAIN_ACCENTS = [[x for x in xs.iterdir()] for xs in TRAIN_PATHS]\n",
    "TEST_ACCENTS = [[x for x in xs.iterdir()] for xs in TEST_PATHS]"
   ]
  },
  {
   "cell_type": "code",
   "execution_count": 9,
   "metadata": {},
   "outputs": [
    {
     "name": "stdout",
     "output_type": "stream",
     "text": [
      "[PosixPath('TRAIN_WAV/DR7/MMDG0/SX160'), PosixPath('TRAIN_WAV/DR7/MMDG0/SA1'), PosixPath('TRAIN_WAV/DR7/MMDG0/SA2'), PosixPath('TRAIN_WAV/DR7/MMDG0/SI2035'), PosixPath('TRAIN_WAV/DR7/MMDG0/SX340')]\n",
      "[PosixPath('TRAIN_WAV/DR7/MMDG0/SX160.PHN'), PosixPath('TRAIN_WAV/DR7/MMDG0/SA1.TXT'), PosixPath('TRAIN_WAV/DR7/MMDG0/SA1.WAV.wav'), PosixPath('TRAIN_WAV/DR7/MMDG0/SA2.PHN'), PosixPath('TRAIN_WAV/DR7/MMDG0/SX70.WAV.wav')]\n"
     ]
    }
   ],
   "source": [
    "pat = r'^([A-Z0-9]+)\\.[A-Z]+$'\n",
    "\n",
    "def get_files(pathss):\n",
    "    \"\"\"\n",
    "        Returns all of the files in a folder and\n",
    "        all of the file-groupings in a path.\n",
    "        For example if we have a folder with multiple files\n",
    "        such as path/test.png, path/test.txt etc.\n",
    "        Then this will return path/test\n",
    "    \"\"\"\n",
    "    FILES = []\n",
    "    for paths in pathss:\n",
    "        for xs in paths:\n",
    "            for x in xs.iterdir():\n",
    "                TRAIN_FILES.append(x)\n",
    "        #TRAIN_FILES.append([[x for x in xs.iterdir()] for xs in paths])\n",
    "    FILES2 = []\n",
    "    matches = []\n",
    "\n",
    "    for x in TRAIN_FILES:\n",
    "        # I might be able to use x.stem insead of this\n",
    "        # Path has .match for regex matching also. Might be quicker and better\n",
    "        match = re.search(pat, x.name)\n",
    "        if match == None or match.group(1) in matches:\n",
    "            continue\n",
    "        FILES2.append(x.with_suffix(''))\n",
    "        matches.append(match.group(1))\n",
    "    return TRAIN_FILES, TRAIN_FILES_2\n",
    "\n",
    "# TRAIN_FILES here is the files while TRAIN_FILES_2 are the file groupings\n",
    "(TRAIN_FILES_ALL, TRAIN_FILES_GROUPINGS) = get_files(TRAIN_ACCENTS)\n",
    "(TEST_FILES_ALL, TEST_FILES_GROUPINGS) = get_files(TEST_ACCENTS)\n",
    "print(TRAIN_FILES_2[:5])\n",
    "print(TRAIN_FILES[:5])\n",
    "#print(TEST_FILES_2[:5])"
   ]
  },
  {
   "cell_type": "code",
   "execution_count": null,
   "metadata": {},
   "outputs": [],
   "source": [
    "path = Path(OUTPUT_PATH)\n",
    "path.mkdir(parents=True, exist_ok=True)"
   ]
  },
  {
   "cell_type": "code",
   "execution_count": null,
   "metadata": {},
   "outputs": [],
   "source": [
    "#TRAIN_FILES_2 are each of the peoples voices. Need to iterate over\n",
    "def make_directories(files, index = \"TRAIN_WAV\"):\n",
    "    #print(files[0])\n",
    "    for i, file in enumerate(files):\n",
    "        print(x.parts)\n",
    "        index = file.parts.index(index)\n",
    "        t = Path(OUTPUT_PATH).joinpath(*file.parts[index + 1:])\n",
    "        #print(t)\n",
    "        t.mkdir(parents=True, exist_ok=True)"
   ]
  },
  {
   "cell_type": "code",
   "execution_count": 11,
   "metadata": {},
   "outputs": [
    {
     "name": "stdout",
     "output_type": "stream",
     "text": [
      "[PosixPath('AUDIO_FILTER_BANKS/TRAIN/aa'), PosixPath('AUDIO_FILTER_BANKS/TRAIN/ae'), PosixPath('AUDIO_FILTER_BANKS/TRAIN/ah'), PosixPath('AUDIO_FILTER_BANKS/TRAIN/ah'), PosixPath('AUDIO_FILTER_BANKS/TRAIN/ay')]\n",
      "[PosixPath('AUDIO_FILTER_BANKS/TRAIN/aa'), PosixPath('AUDIO_FILTER_BANKS/TRAIN/ae'), PosixPath('AUDIO_FILTER_BANKS/TRAIN/ah'), PosixPath('AUDIO_FILTER_BANKS/TRAIN/ah'), PosixPath('AUDIO_FILTER_BANKS/TRAIN/ay')]\n"
     ]
    }
   ],
   "source": [
    "TRAIN_FILES_PHONES = []\n",
    "TEST_FILES_PHONES = []\n",
    "phones = [\n",
    "    \"aa\",\n",
    "    \"ae\",\n",
    "    \"ah\",\n",
    "    \"ah\",\n",
    "    \"ay\",\n",
    "    \"aw\",\n",
    "    \"b\",\n",
    "    \"ch\",\n",
    "    \"d\",\n",
    "    \"dh\",\n",
    "    \"dx\",\n",
    "    \"eh\",\n",
    "    \"er\",\n",
    "    \"ey\",\n",
    "    \"f\",\n",
    "    \"g\",\n",
    "    \"hh\",\n",
    "    \"ih\",\n",
    "    \"k\",\n",
    "    \"iy\",\n",
    "    \"jh\",\n",
    "    \"l\",\n",
    "    \"m\",\n",
    "    \"n\",\n",
    "    \"ng\",\n",
    "    \"oy\",\n",
    "    \"ow\",\n",
    "    \"r\",\n",
    "    \"s\",\n",
    "    \"sh\",\n",
    "    \"t\",\n",
    "    \"th\",\n",
    "    \"uw\",\n",
    "    \"uh\",\n",
    "    \"p\",\n",
    "    \"v\",\n",
    "    \"w\",\n",
    "    \"y\",\n",
    "    \"z\",\n",
    "    \"sil\"\n",
    "]\n",
    "\n",
    "#OUTPUT_PATH = Path(OUTPUT_PATH / \"TRAIN\")\n",
    "\n",
    "for i in phones:\n",
    "    TRAIN_FILES_PHONES.append(OUTPUT_PATH / \"TRAIN\" / i)\n",
    "    \n",
    "#OUTPUT_PATH = Path(OUTPUT_PATH / \"TEST\")\n",
    "\n",
    "for i in phones:\n",
    "    TEST_FILES_PHONES.append(OUTPUT_PATH / \"TEST\" / i)\n",
    "    \n",
    "print(TRAIN_FILES_PHONES[:5])\n",
    "print(TRAIN_FILES_PHONES[:5])\n",
    "\n",
    "for d in TRAIN_FILES_PHONES:\n",
    "    d.mkdir(parents=True, exist_ok=True)\n",
    "for d in TEST_FILES_PHONES:\n",
    "    d.mkdir(parents=True, exist_ok=True)\n",
    "    \n",
    "#make_directories(TRAIN_FILES_3, \"AUDIO_FIX_FILTER_BANKS_DELTA_DELTA_FOLDERS\")"
   ]
  },
  {
   "cell_type": "code",
   "execution_count": 25,
   "metadata": {},
   "outputs": [],
   "source": [
    "\n",
    "def get_phn(file, i):\n",
    "    \"\"\"\n",
    "        Gets the phone of file file at time i\n",
    "    \"\"\"\n",
    "    phns = pd.read_csv(file.with_suffix(\"\").with_suffix('.PHN'), sep = \" \" , header=None)\n",
    "    phn = phns[2][0]\n",
    "    for idx, x in enumerate(phns[0]):\n",
    "        #print(i, idx, x, phns[2][idx])\n",
    "        if i >= x:\n",
    "            phn = phns[2][idx]\n",
    "            continue\n",
    "        return phn\n",
    "        break\n",
    "    else:\n",
    "        return phn\n",
    "            "
   ]
  },
  {
   "cell_type": "code",
   "execution_count": 30,
   "metadata": {},
   "outputs": [
    {
     "name": "stdout",
     "output_type": "stream",
     "text": [
      "TRAIN_WAV/DR7/MMDG0/SX70.WAV.wav\n"
     ]
    },
    {
     "data": {
      "text/plain": [
       "'q'"
      ]
     },
     "execution_count": 30,
     "metadata": {},
     "output_type": "execute_result"
    }
   ],
   "source": [
    "# phn = pd.read_csv(TRAIN_FILES_2[0].with_suffix('.PHN'), sep = \" \" , header=None)\n",
    "#print(phn[1])\n",
    "i = 4\n",
    "print(TRAIN_FILES[i])\n",
    "get_phn(TRAIN_FILES[i], 10280)"
   ]
  },
  {
   "cell_type": "code",
   "execution_count": null,
   "metadata": {},
   "outputs": [],
   "source": []
  }
 ],
 "metadata": {
  "kernelspec": {
   "display_name": "Python 3",
   "language": "python",
   "name": "python3"
  },
  "language_info": {
   "codemirror_mode": {
    "name": "ipython",
    "version": 3
   },
   "file_extension": ".py",
   "mimetype": "text/x-python",
   "name": "python",
   "nbconvert_exporter": "python",
   "pygments_lexer": "ipython3",
   "version": "3.6.7"
  }
 },
 "nbformat": 4,
 "nbformat_minor": 4
}
